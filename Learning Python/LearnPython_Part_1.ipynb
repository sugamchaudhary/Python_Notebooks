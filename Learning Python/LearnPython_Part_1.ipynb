{
 "cells": [
  {
   "cell_type": "markdown",
   "id": "1144d059",
   "metadata": {},
   "source": [
    "### Strings"
   ]
  },
  {
   "cell_type": "code",
   "execution_count": 6,
   "id": "79c53382",
   "metadata": {},
   "outputs": [
    {
     "name": "stdout",
     "output_type": "stream",
     "text": [
      "Sugam Chaudhary\n"
     ]
    }
   ],
   "source": [
    "first_name='Sugam'\n",
    "last_name='Chaudhary'\n",
    "full_name=first_name+' '+last_name\n",
    "print(full_name)"
   ]
  },
  {
   "cell_type": "code",
   "execution_count": 10,
   "id": "b0f90704",
   "metadata": {},
   "outputs": [
    {
     "name": "stdout",
     "output_type": "stream",
     "text": [
      "hello Sugam\n",
      "hello5\n"
     ]
    }
   ],
   "source": [
    "print(\"hello\"+\" Sugam\")\n",
    "print('hello'+'5')\n",
    "#string concatenation only works for strings"
   ]
  },
  {
   "cell_type": "markdown",
   "id": "0759bcfe",
   "metadata": {},
   "source": [
    "### Type Conversion"
   ]
  },
  {
   "cell_type": "code",
   "execution_count": 1,
   "id": "b1942ced",
   "metadata": {},
   "outputs": [
    {
     "output_type": "stream",
     "name": "stdout",
     "text": [
      "<class 'str'>\n<class 'int'>\n"
     ]
    }
   ],
   "source": [
    "print(type(str(100)))\n",
    "a=str(100)\n",
    "b=int(a)\n",
    "c=type(b)\n",
    "print(c)"
   ]
  },
  {
   "source": [
    "### Escape Sequence"
   ],
   "cell_type": "markdown",
   "metadata": {}
  },
  {
   "cell_type": "code",
   "execution_count": 7,
   "metadata": {},
   "outputs": [
    {
     "output_type": "stream",
     "name": "stdout",
     "text": [
      "It's \"kind of\" sunny \n hope you have a good day!\n"
     ]
    }
   ],
   "source": [
    "weather='It\\'s \\\"kind of\\\" sunny \\n hope you have a good day!'\n",
    "print(weather)"
   ]
  },
  {
   "source": [
    "### Formated Strings"
   ],
   "cell_type": "markdown",
   "metadata": {}
  },
  {
   "cell_type": "code",
   "execution_count": 7,
   "metadata": {},
   "outputs": [
    {
     "output_type": "stream",
     "name": "stdout",
     "text": [
      "Hi I am Johnny. I am 55 years old.\nHi Johnny. You are 55 years old.\n"
     ]
    }
   ],
   "source": [
    "name='Johnny'\n",
    "age='55'\n",
    "print('Hi I am '+ name +'. I am '+str(age)+' years old.')\n",
    "print(f'Hi {name}. You are {age} years old.')"
   ]
  },
  {
   "source": [
    "### String Indexs"
   ],
   "cell_type": "markdown",
   "metadata": {}
  },
  {
   "cell_type": "code",
   "execution_count": 9,
   "metadata": {},
   "outputs": [
    {
     "output_type": "stream",
     "name": "stdout",
     "text": [
      "Sugam Chaudhary\n"
     ]
    }
   ],
   "source": [
    "name='SugamChaudhary'\n",
    "print(name[0:5]+\" \"+name[5:14])"
   ]
  },
  {
   "source": [
    "selfish='123456'\n",
    "#selfish[0]='100'\n",
    "print(len(selfish))"
   ],
   "cell_type": "code",
   "metadata": {},
   "execution_count": 4,
   "outputs": [
    {
     "output_type": "stream",
     "name": "stdout",
     "text": [
      "6\n"
     ]
    }
   ]
  },
  {
   "cell_type": "code",
   "execution_count": 8,
   "metadata": {},
   "outputs": [
    {
     "output_type": "stream",
     "name": "stdout",
     "text": [
      "TO BE OR NOT TO BE\nTo be or not to be\n"
     ]
    }
   ],
   "source": [
    "quote = 'to be or not to be'\n",
    "print(quote.upper())\n",
    "print(quote.capitalize())"
   ]
  },
  {
   "cell_type": "code",
   "execution_count": null,
   "metadata": {},
   "outputs": [],
   "source": []
  }
 ],
 "metadata": {
  "kernelspec": {
   "name": "python3",
   "display_name": "Python 3.8.8 64-bit ('base': conda)"
  },
  "language_info": {
   "codemirror_mode": {
    "name": "ipython",
    "version": 3
   },
   "file_extension": ".py",
   "mimetype": "text/x-python",
   "name": "python",
   "nbconvert_exporter": "python",
   "pygments_lexer": "ipython3",
   "version": "3.8.8"
  },
  "interpreter": {
   "hash": "44f0e32a73340a798ef7d42460b8b5e5dff75383d08a5ec3f1a329ad32e1d091"
  }
 },
 "nbformat": 4,
 "nbformat_minor": 5
}